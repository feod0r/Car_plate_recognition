{
 "cells": [
  {
   "cell_type": "code",
   "execution_count": 35,
   "metadata": {},
   "outputs": [],
   "source": [
    "import json\n",
    "import numpy as np\n",
    "import keras\n",
    "import os\n",
    "import cv2\n",
    "\n",
    "from keras.models import load_model"
   ]
  },
  {
   "cell_type": "code",
   "execution_count": 3,
   "metadata": {},
   "outputs": [
    {
     "name": "stdout",
     "output_type": "stream",
     "text": [
      "WARNING:tensorflow:From c:\\program files\\python 36\\lib\\site-packages\\tensorflow\\python\\framework\\op_def_library.py:263: colocate_with (from tensorflow.python.framework.ops) is deprecated and will be removed in a future version.\n",
      "Instructions for updating:\n",
      "Colocations handled automatically by placer.\n",
      "WARNING:tensorflow:From c:\\program files\\python 36\\lib\\site-packages\\tensorflow\\python\\ops\\math_ops.py:3066: to_int32 (from tensorflow.python.ops.math_ops) is deprecated and will be removed in a future version.\n",
      "Instructions for updating:\n",
      "Use tf.cast instead.\n"
     ]
    }
   ],
   "source": [
    "model = load_model('ultimate.h5')"
   ]
  },
  {
   "cell_type": "code",
   "execution_count": 53,
   "metadata": {},
   "outputs": [
    {
     "name": "stdout",
     "output_type": "stream",
     "text": [
      "['00_7.jpg', '01_12.jpg', '02_4.jpg', '03_2.jpg', '04_5.jpg', '05_0.jpg', '06_3.jpg', '07_1.jpg', '08_9.jpg', '09_8.jpg', '10_11.jpg', '11_10.jpg', '12_16.jpg', '13_6.jpg', '14_14.jpg', '14_15.jpg', '16_17.jpg', '17_13.jpg']\n"
     ]
    }
   ],
   "source": [
    "files = os.listdir(path=\"outp_num\")\n",
    "files.sort()\n",
    "# print(files)\n",
    "dataset = []\n",
    "for path in files:\n",
    "    img = cv2.imread('outp_num/'+path,0)\n",
    "    dataset.append(np.array(img).ravel())\n"
   ]
  },
  {
   "cell_type": "code",
   "execution_count": 54,
   "metadata": {},
   "outputs": [],
   "source": [
    "predict = model.predict([dataset])"
   ]
  },
  {
   "cell_type": "code",
   "execution_count": 55,
   "metadata": {},
   "outputs": [],
   "source": [
    "letter = []\n",
    "for answer in predict:\n",
    "    letter.append(np.where(answer == np.max(answer))[0][0])"
   ]
  },
  {
   "cell_type": "code",
   "execution_count": 56,
   "metadata": {},
   "outputs": [],
   "source": [
    "char_by_num = {\n",
    "    0 : '0',\n",
    "    1 : '1',\n",
    "    2 : '2',\n",
    "    3 : '3',\n",
    "    4 : '4',\n",
    "    5 : '5',\n",
    "    6 : '6',\n",
    "    7 : '7',\n",
    "    8 : '8',\n",
    "    9 : '9',\n",
    "    10 : 'a',\n",
    "    11 : 'b',\n",
    "    12 : 'c',\n",
    "    13 : 'e',\n",
    "    14 : 'h',\n",
    "    15 : 'k',\n",
    "    16 : 'm',\n",
    "    17 : 'o',\n",
    "    18 : 'p',\n",
    "    19 : 't',\n",
    "    20 : 'x',\n",
    "    21 : 'y'\n",
    "}"
   ]
  },
  {
   "cell_type": "code",
   "execution_count": 57,
   "metadata": {},
   "outputs": [
    {
     "name": "stdout",
     "output_type": "stream",
     "text": [
      "0.9205934\n",
      "0.9621486\n",
      "0.98495525\n",
      "0.98029584\n",
      "0.8603166\n",
      "0.89776784\n",
      "0.9933961\n",
      "0.9750676\n"
     ]
    }
   ],
   "source": [
    "output = ''\n",
    "for i,cha in enumerate(letter):\n",
    "    if(predict[i][cha]>0.5):\n",
    "        output += char_by_num[cha]"
   ]
  },
  {
   "cell_type": "code",
   "execution_count": 62,
   "metadata": {},
   "outputs": [],
   "source": [
    "file_out = open('outp.txt', 'w')\n",
    "file_out.write(output.upper())\n",
    "file_out.close()"
   ]
  },
  {
   "cell_type": "code",
   "execution_count": null,
   "metadata": {},
   "outputs": [],
   "source": []
  }
 ],
 "metadata": {
  "kernelspec": {
   "display_name": "Python 3",
   "language": "python",
   "name": "python3"
  },
  "language_info": {
   "codemirror_mode": {
    "name": "ipython",
    "version": 3
   },
   "file_extension": ".py",
   "mimetype": "text/x-python",
   "name": "python",
   "nbconvert_exporter": "python",
   "pygments_lexer": "ipython3",
   "version": "3.6.8"
  }
 },
 "nbformat": 4,
 "nbformat_minor": 2
}
